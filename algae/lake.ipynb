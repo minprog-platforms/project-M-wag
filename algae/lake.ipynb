{
 "cells": [
  {
   "cell_type": "code",
   "execution_count": 1,
   "metadata": {},
   "outputs": [],
   "source": [
    "from mesa import Agent, Model\n",
    "from mesa.time import RandomActivation\n",
    "from mesa.space import MultiGrid\n",
    "from mesa.datacollection import DataCollector\n",
    "from multivargrid import MultiVarGrid\n",
    "from copy import deepcopy\n",
    "import random"
   ]
  },
  {
   "cell_type": "code",
   "execution_count": 2,
   "metadata": {},
   "outputs": [],
   "source": [
    "starting_health = 0.5\n",
    "hunger_rate = 0.1\n",
    "birth_threshold = 0.8"
   ]
  },
  {
   "cell_type": "code",
   "execution_count": 3,
   "metadata": {},
   "outputs": [],
   "source": [
    "class Fish(Agent):\n",
    "    def __init__(self, unique_id, model, variant) -> None:\n",
    "        super().__init__(unique_id, model)\n",
    "        self.variant = variant\n",
    "        self.health= starting_health\n",
    "    \n",
    "    def step(self) -> None:\n",
    "        #   Check if Fish Lives or Gives Birth\n",
    "        self.health-= hunger_rate\n",
    "        # if self.hunger > birth_threshold:\n",
    "        #     self.hunger = self.hunger / 2\n",
    "        #     self.give_birth()\n",
    "        # elif self.hunger <= 0 :\n",
    "            # pass\n",
    "        #     self.die()\n",
    "        #     return\n",
    "        # Check oxygen levels \n",
    "\n",
    "        self.move_to_food()\n",
    "        # if self.check_for_food():\n",
    "        #     self.eat()\n",
    "\n",
    "    def move(self) -> None:\n",
    "        possible_steps = self.model.grid.get_neighborhood(\n",
    "            self.pos, moore=True, include_center=False\n",
    "        ) \n",
    "        new_positon = self.random.choice(possible_steps)\n",
    "        self.model.grid.move_agent(self ,new_positon)\n",
    "\n",
    "    def move_to_food(self) -> None:\n",
    "        \"\"\"Locate the nearest source of food and move towards it\"\"\"\n",
    "        self.locate_food()\n",
    "        #   move\n",
    "\n",
    "    def locate_food(self) -> set:\n",
    "        \"\"\"Search the range around your position and find food\"\"\"\n",
    "        #   Get coordinates of surrounding cells\n",
    "        possible_steps = self.model.grid.get_neighborhood(\n",
    "            self.pos, moore=True, include_center=True) \n",
    "        #   Get algae density of surrounding cells\n",
    "        algae_grid = deepcopy(self.model.variable_grid.return_variable_grid('algae'))\n",
    "        neighbor_algae_value = {coord : algae_grid[coord[0]][coord[1]] for coord in possible_steps} \n",
    "        #   Stochastically determine next move\n",
    "        # next_move = random.choices(list(neighbor_algae.keys()), list(neighbor_algae.values()))\n",
    "        #   Deterministically determine next move\n",
    "        highest_algae_value = neighbor_algae_value[self.pos]\n",
    "        next_move = self.pos\n",
    "        for neighbor in neighbor_algae_value:\n",
    "            if neighbor_algae_value[neighbor] >= highest_algae_value:\n",
    "                highest_algae_value = neighbor_algae_value[neighbor]\n",
    "                print(neighbor_algae_value[neighbor])\n",
    "                next_move = neighbor\n",
    "                print(next_move)\n",
    "                \n",
    "        return next_move\n",
    "\n",
    "    def check_for_food(self):\n",
    "        \"\"\"Check whether current cell has algae\"\"\"\n",
    "        algae_grid = deepcopy(self.model.variable_grid.return_variable_grid('algae'))\n",
    "        current_cell_algae_value = algae_grid[self.pos[0]][self.pos[1]]\n",
    "        if current_cell_algae_value > 0:\n",
    "            return True\n",
    "        else:\n",
    "            return False\n",
    "\n",
    "    def get_food_intake(self):\n",
    "        \"\"\"Gauge how much algae can be consumed\"\"\" \n",
    "        "
   ]
  },
  {
   "cell_type": "code",
   "execution_count": 4,
   "metadata": {},
   "outputs": [],
   "source": [
    "class Lake(Model):\n",
    "    \"\"\"A model with some number of agents.\"\"\"\n",
    "\n",
    "    def __init__(self, N, width, height, agent_variant):\n",
    "        self.num_agents = N\n",
    "        self.grid= MultiGrid(width, height, False)\n",
    "        self.schedule = RandomActivation(self)\n",
    "        self.agent_variant = agent_variant\n",
    "\n",
    "        #   Create Grid Storing all Non-Agent Variables\n",
    "        lake_variables = {'algae' : random.uniform(0, 1), 'oxygen' : random.uniform(0.6, 1)}\n",
    "        self.variable_grid = MultiVarGrid(width, height, lake_variables)\n",
    "\n",
    "        # Create agents\n",
    "        for i in range(self.num_agents):\n",
    "            a = Fish(i, self, agent_variant)\n",
    "            self.schedule.add(a)\n",
    "            # Add the agent to a random grid cell\n",
    "            x = self.random.randrange(self.grid.width)\n",
    "            y = self.random.randrange(self.grid.height)\n",
    "            self.grid.place_agent(a, (x, y))\n",
    "\n",
    "    def step(self):\n",
    "        self.schedule.step()\n"
   ]
  },
  {
   "cell_type": "code",
   "execution_count": 5,
   "metadata": {},
   "outputs": [
    {
     "name": "stdout",
     "output_type": "stream",
     "text": [
      "0.0328434254952773\n",
      "(1, 1)\n",
      "0.0328434254952773\n",
      "(1, 2)\n",
      "0.0328434254952773\n",
      "(2, 1)\n",
      "0.0328434254952773\n",
      "(2, 2)\n"
     ]
    }
   ],
   "source": [
    "lake = Lake(1, 3, 3, None)\n",
    "\n",
    "for i in range(1,2):\n",
    "    lake.step()\n",
    "    "
   ]
  },
  {
   "cell_type": "code",
   "execution_count": 6,
   "metadata": {},
   "outputs": [
    {
     "name": "stdout",
     "output_type": "stream",
     "text": [
      "Interface starting at http://127.0.0.1:8521\n"
     ]
    },
    {
     "ename": "RuntimeError",
     "evalue": "This event loop is already running",
     "output_type": "error",
     "traceback": [
      "\u001b[0;31m---------------------------------------------------------------------------\u001b[0m",
      "\u001b[0;31mRuntimeError\u001b[0m                              Traceback (most recent call last)",
      "\u001b[1;32m/home/chef/Minor Programming/project-M-wag/algae/lake.ipynb Cell 6'\u001b[0m in \u001b[0;36m<cell line: 19>\u001b[0;34m()\u001b[0m\n\u001b[1;32m     <a href='vscode-notebook-cell://wsl%2Bubuntu/home/chef/Minor%20Programming/project-M-wag/algae/lake.ipynb#ch0000005vscode-remote?line=13'>14</a>\u001b[0m server \u001b[39m=\u001b[39m ModularServer(Lake,\n\u001b[1;32m     <a href='vscode-notebook-cell://wsl%2Bubuntu/home/chef/Minor%20Programming/project-M-wag/algae/lake.ipynb#ch0000005vscode-remote?line=14'>15</a>\u001b[0m                        [grid],\n\u001b[1;32m     <a href='vscode-notebook-cell://wsl%2Bubuntu/home/chef/Minor%20Programming/project-M-wag/algae/lake.ipynb#ch0000005vscode-remote?line=15'>16</a>\u001b[0m                        \u001b[39m\"\u001b[39m\u001b[39mLake Model\u001b[39m\u001b[39m\"\u001b[39m,\n\u001b[1;32m     <a href='vscode-notebook-cell://wsl%2Bubuntu/home/chef/Minor%20Programming/project-M-wag/algae/lake.ipynb#ch0000005vscode-remote?line=16'>17</a>\u001b[0m                        {\u001b[39m\"\u001b[39m\u001b[39mN\u001b[39m\u001b[39m\"\u001b[39m:\u001b[39m100\u001b[39m, \u001b[39m\"\u001b[39m\u001b[39mwidth\u001b[39m\u001b[39m\"\u001b[39m:\u001b[39m10\u001b[39m, \u001b[39m\"\u001b[39m\u001b[39mheight\u001b[39m\u001b[39m\"\u001b[39m:\u001b[39m10\u001b[39m, \u001b[39m\"\u001b[39m\u001b[39magent_variant\u001b[39m\u001b[39m\"\u001b[39m : \u001b[39mNone\u001b[39;00m })\n\u001b[1;32m     <a href='vscode-notebook-cell://wsl%2Bubuntu/home/chef/Minor%20Programming/project-M-wag/algae/lake.ipynb#ch0000005vscode-remote?line=17'>18</a>\u001b[0m server\u001b[39m.\u001b[39mport \u001b[39m=\u001b[39m \u001b[39m8521\u001b[39m \u001b[39m# The default\u001b[39;00m\n\u001b[0;32m---> <a href='vscode-notebook-cell://wsl%2Bubuntu/home/chef/Minor%20Programming/project-M-wag/algae/lake.ipynb#ch0000005vscode-remote?line=18'>19</a>\u001b[0m server\u001b[39m.\u001b[39;49mlaunch()\n",
      "File \u001b[0;32m/usr/local/lib/python3.8/dist-packages/mesa/visualization/ModularVisualization.py:337\u001b[0m, in \u001b[0;36mModularServer.launch\u001b[0;34m(self, port, open_browser)\u001b[0m\n\u001b[1;32m    <a href='file:///usr/local/lib/python3.8/dist-packages/mesa/visualization/ModularVisualization.py?line=334'>335</a>\u001b[0m     webbrowser\u001b[39m.\u001b[39mopen(url)\n\u001b[1;32m    <a href='file:///usr/local/lib/python3.8/dist-packages/mesa/visualization/ModularVisualization.py?line=335'>336</a>\u001b[0m tornado\u001b[39m.\u001b[39mautoreload\u001b[39m.\u001b[39mstart()\n\u001b[0;32m--> <a href='file:///usr/local/lib/python3.8/dist-packages/mesa/visualization/ModularVisualization.py?line=336'>337</a>\u001b[0m tornado\u001b[39m.\u001b[39;49mioloop\u001b[39m.\u001b[39;49mIOLoop\u001b[39m.\u001b[39;49mcurrent()\u001b[39m.\u001b[39;49mstart()\n",
      "File \u001b[0;32m/usr/local/lib/python3.8/dist-packages/tornado/platform/asyncio.py:199\u001b[0m, in \u001b[0;36mBaseAsyncIOLoop.start\u001b[0;34m(self)\u001b[0m\n\u001b[1;32m    <a href='file:///usr/local/lib/python3.8/dist-packages/tornado/platform/asyncio.py?line=196'>197</a>\u001b[0m     \u001b[39mself\u001b[39m\u001b[39m.\u001b[39m_setup_logging()\n\u001b[1;32m    <a href='file:///usr/local/lib/python3.8/dist-packages/tornado/platform/asyncio.py?line=197'>198</a>\u001b[0m     asyncio\u001b[39m.\u001b[39mset_event_loop(\u001b[39mself\u001b[39m\u001b[39m.\u001b[39masyncio_loop)\n\u001b[0;32m--> <a href='file:///usr/local/lib/python3.8/dist-packages/tornado/platform/asyncio.py?line=198'>199</a>\u001b[0m     \u001b[39mself\u001b[39;49m\u001b[39m.\u001b[39;49masyncio_loop\u001b[39m.\u001b[39;49mrun_forever()\n\u001b[1;32m    <a href='file:///usr/local/lib/python3.8/dist-packages/tornado/platform/asyncio.py?line=199'>200</a>\u001b[0m \u001b[39mfinally\u001b[39;00m:\n\u001b[1;32m    <a href='file:///usr/local/lib/python3.8/dist-packages/tornado/platform/asyncio.py?line=200'>201</a>\u001b[0m     asyncio\u001b[39m.\u001b[39mset_event_loop(old_loop)\n",
      "File \u001b[0;32m/usr/lib/python3.8/asyncio/base_events.py:560\u001b[0m, in \u001b[0;36mBaseEventLoop.run_forever\u001b[0;34m(self)\u001b[0m\n\u001b[1;32m    <a href='file:///usr/lib/python3.8/asyncio/base_events.py?line=557'>558</a>\u001b[0m \u001b[39m\"\"\"Run until stop() is called.\"\"\"\u001b[39;00m\n\u001b[1;32m    <a href='file:///usr/lib/python3.8/asyncio/base_events.py?line=558'>559</a>\u001b[0m \u001b[39mself\u001b[39m\u001b[39m.\u001b[39m_check_closed()\n\u001b[0;32m--> <a href='file:///usr/lib/python3.8/asyncio/base_events.py?line=559'>560</a>\u001b[0m \u001b[39mself\u001b[39;49m\u001b[39m.\u001b[39;49m_check_running()\n\u001b[1;32m    <a href='file:///usr/lib/python3.8/asyncio/base_events.py?line=560'>561</a>\u001b[0m \u001b[39mself\u001b[39m\u001b[39m.\u001b[39m_set_coroutine_origin_tracking(\u001b[39mself\u001b[39m\u001b[39m.\u001b[39m_debug)\n\u001b[1;32m    <a href='file:///usr/lib/python3.8/asyncio/base_events.py?line=561'>562</a>\u001b[0m \u001b[39mself\u001b[39m\u001b[39m.\u001b[39m_thread_id \u001b[39m=\u001b[39m threading\u001b[39m.\u001b[39mget_ident()\n",
      "File \u001b[0;32m/usr/lib/python3.8/asyncio/base_events.py:552\u001b[0m, in \u001b[0;36mBaseEventLoop._check_running\u001b[0;34m(self)\u001b[0m\n\u001b[1;32m    <a href='file:///usr/lib/python3.8/asyncio/base_events.py?line=549'>550</a>\u001b[0m \u001b[39mdef\u001b[39;00m \u001b[39m_check_running\u001b[39m(\u001b[39mself\u001b[39m):\n\u001b[1;32m    <a href='file:///usr/lib/python3.8/asyncio/base_events.py?line=550'>551</a>\u001b[0m     \u001b[39mif\u001b[39;00m \u001b[39mself\u001b[39m\u001b[39m.\u001b[39mis_running():\n\u001b[0;32m--> <a href='file:///usr/lib/python3.8/asyncio/base_events.py?line=551'>552</a>\u001b[0m         \u001b[39mraise\u001b[39;00m \u001b[39mRuntimeError\u001b[39;00m(\u001b[39m'\u001b[39m\u001b[39mThis event loop is already running\u001b[39m\u001b[39m'\u001b[39m)\n\u001b[1;32m    <a href='file:///usr/lib/python3.8/asyncio/base_events.py?line=552'>553</a>\u001b[0m     \u001b[39mif\u001b[39;00m events\u001b[39m.\u001b[39m_get_running_loop() \u001b[39mis\u001b[39;00m \u001b[39mnot\u001b[39;00m \u001b[39mNone\u001b[39;00m:\n\u001b[1;32m    <a href='file:///usr/lib/python3.8/asyncio/base_events.py?line=553'>554</a>\u001b[0m         \u001b[39mraise\u001b[39;00m \u001b[39mRuntimeError\u001b[39;00m(\n\u001b[1;32m    <a href='file:///usr/lib/python3.8/asyncio/base_events.py?line=554'>555</a>\u001b[0m             \u001b[39m'\u001b[39m\u001b[39mCannot run the event loop while another loop is running\u001b[39m\u001b[39m'\u001b[39m)\n",
      "\u001b[0;31mRuntimeError\u001b[0m: This event loop is already running"
     ]
    },
    {
     "name": "stderr",
     "output_type": "stream",
     "text": [
      "WARNING:tornado.access:404 GET /favicon.ico (127.0.0.1) 0.94ms\n"
     ]
    },
    {
     "name": "stdout",
     "output_type": "stream",
     "text": [
      "Socket opened!\n",
      "{\"type\":\"reset\"}\n"
     ]
    }
   ],
   "source": [
    "from mesa.visualization.modules import CanvasGrid\n",
    "from mesa.visualization.ModularVisualization import ModularServer\n",
    "\n",
    "\n",
    "def agent_portrayal(agent):\n",
    "    portrayal = {\"Shape\": \"circle\",\n",
    "                 \"Filled\": \"true\",\n",
    "                 \"Layer\": 0,\n",
    "                 \"Color\": \"red\",\n",
    "                 \"r\": 0.5}\n",
    "    return portrayal\n",
    "\n",
    "grid = CanvasGrid(agent_portrayal, 10, 10, 500, 500)\n",
    "server = ModularServer(Lake,\n",
    "                       [grid],\n",
    "                       \"Lake Model\",\n",
    "                       {\"N\":100, \"width\":10, \"height\":10, \"agent_variant\" : None })\n",
    "server.port = 8521 # The default\n",
    "server.launch()"
   ]
  }
 ],
 "metadata": {
  "interpreter": {
   "hash": "916dbcbb3f70747c44a77c7bcd40155683ae19c65e1c03b4aa3499c5328201f1"
  },
  "kernelspec": {
   "display_name": "Python 3.8.10 64-bit",
   "language": "python",
   "name": "python3"
  },
  "language_info": {
   "codemirror_mode": {
    "name": "ipython",
    "version": 3
   },
   "file_extension": ".py",
   "mimetype": "text/x-python",
   "name": "python",
   "nbconvert_exporter": "python",
   "pygments_lexer": "ipython3",
   "version": "3.8.10"
  },
  "orig_nbformat": 4
 },
 "nbformat": 4,
 "nbformat_minor": 2
}
