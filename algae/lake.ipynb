{
 "cells": [
  {
   "cell_type": "code",
   "execution_count": 2,
   "metadata": {},
   "outputs": [],
   "source": [
    "from mesa import Agent, Model\n",
    "from mesa.time import RandomActivation\n",
    "from mesa.space import MultiGrid\n",
    "from mesa.datacollection import DataCollector\n",
    "from multivargrid import MultiVarGrid\n",
    "from copy import deepcopy\n",
    "import random"
   ]
  },
  {
   "cell_type": "code",
   "execution_count": 3,
   "metadata": {},
   "outputs": [],
   "source": [
    "starting_health = 0.5\n",
    "hunger_rate = 0.1\n",
    "birth_threshold = 0.8"
   ]
  },
  {
   "cell_type": "code",
   "execution_count": 22,
   "metadata": {},
   "outputs": [],
   "source": [
    "class Fish(Agent):\n",
    "    def __init__(self, unique_id, model, variant) -> None:\n",
    "        super().__init__(unique_id, model)\n",
    "        self.variant = variant\n",
    "        self.health= starting_health\n",
    "    \n",
    "    def step(self) -> None:\n",
    "        #   Check if Fish Lives or Gives Birth\n",
    "        self.health-= hunger_rate\n",
    "        # if self.hunger > birth_threshold:\n",
    "        #     self.hunger = self.hunger / 2\n",
    "        #     self.give_birth()\n",
    "        # elif self.hunger <= 0 :\n",
    "            # pass\n",
    "        #     self.die()\n",
    "        #     return\n",
    "        # Check oxygen levels \n",
    "\n",
    "        self.move_to_food()\n",
    "        # if self.check_for_food():\n",
    "        #     self.eat()\n",
    "\n",
    "    def move(self) -> None:\n",
    "        possible_steps = self.model.grid.get_neighborhood(\n",
    "            self.pos, moore=True, include_center=False\n",
    "        ) \n",
    "        new_positon = self.random.choice(possible_steps)\n",
    "        self.model.grid.move_agent(self ,new_positon)\n",
    "\n",
    "    def move_to_food(self) -> None:\n",
    "        \"\"\"Locate the nearest source of food and move towards it\"\"\"\n",
    "        self.locate_food()\n",
    "        #   move\n",
    "\n",
    "    def locate_food(self) -> set:\n",
    "        \"\"\"Search the range around your position and find food\"\"\"\n",
    "        #   Get coordinates of surrounding cells\n",
    "        possible_steps = self.model.grid.get_neighborhood(\n",
    "            self.pos, moore=True, include_center=True) \n",
    "        #   Get algae density of surrounding cells\n",
    "        algae_grid = deepcopy(self.model.variable_grid.return_variable_grid('algae'))\n",
    "        neighbor_algae_value = {coord : algae_grid[coord[0]][coord[1]] for coord in possible_steps} \n",
    "        #   Stochastically determine next move\n",
    "        # next_move = random.choices(list(neighbor_algae.keys()), list(neighbor_algae.values()))\n",
    "        #   Deterministically determine next move\n",
    "        highest_algae_value = neighbor_algae_value[self.pos]\n",
    "        next_move = self.pos\n",
    "        for neighbor in neighbor_algae_value:\n",
    "            if neighbor_algae_value[neighbor] >= highest_algae_value:\n",
    "                highest_algae_value = neighbor_algae_value[neighbor]\n",
    "                print(neighbor_algae_value[neighbor])\n",
    "                next_move = neighbor\n",
    "                print(next_move)\n",
    "                \n",
    "        return next_move\n",
    "\n",
    "    def check_for_food(self):\n",
    "        \"\"\"Check whether current cell has algae\"\"\"\n",
    "        algae_grid = deepcopy(self.model.variable_grid.return_variable_grid('algae'))\n",
    "        current_cell_algae_value = algae_grid[self.pos[0]][self.pos[1]]\n",
    "        if current_cell_algae_value > 0:\n",
    "            return True\n",
    "        else:\n",
    "            return False\n",
    "\n",
    "    def get_food_intake(self):\n",
    "        \"\"\"Gauge how much algae can be consumed\"\"\" \n",
    "        "
   ]
  },
  {
   "cell_type": "code",
   "execution_count": 5,
   "metadata": {},
   "outputs": [],
   "source": [
    "class Lake(Model):\n",
    "    \"\"\"A model with some number of agents.\"\"\"\n",
    "\n",
    "    def __init__(self, N, width, height, agent_variant):\n",
    "        self.num_agents = N\n",
    "        self.grid= MultiGrid(width, height, False)\n",
    "        self.schedule = RandomActivation(self)\n",
    "        self.agent_variant = agent_variant\n",
    "\n",
    "        #   Create Grid Storing all Non-Agent Variables\n",
    "        lake_variables = {'algae' : random.uniform(0, 1), 'oxygen' : random.uniform(0.6, 1)}\n",
    "        self.variable_grid = MultiVarGrid(width, height, lake_variables)\n",
    "\n",
    "        # Create agents\n",
    "        for i in range(self.num_agents):\n",
    "            a = Fish(i, self, agent_variant)\n",
    "            self.schedule.add(a)\n",
    "            # Add the agent to a random grid cell\n",
    "            x = self.random.randrange(self.grid.width)\n",
    "            y = self.random.randrange(self.grid.height)\n",
    "            self.grid.place_agent(a, (x, y))\n",
    "\n",
    "    def step(self):\n",
    "        self.schedule.step()\n"
   ]
  },
  {
   "cell_type": "code",
   "execution_count": 20,
   "metadata": {},
   "outputs": [
    {
     "name": "stdout",
     "output_type": "stream",
     "text": [
      "0.4565871631784809\n",
      "(0, 0)\n",
      "0.4565871631784809\n",
      "(0, 1)\n",
      "0.4565871631784809\n",
      "(0, 2)\n",
      "0.4565871631784809\n",
      "(1, 0)\n",
      "0.4565871631784809\n",
      "(1, 1)\n",
      "0.4565871631784809\n",
      "(1, 2)\n"
     ]
    }
   ],
   "source": [
    "lake = Lake(1, 3, 3, None)\n",
    "\n",
    "for i in range(1,2):\n",
    "    lake.step()\n",
    "    "
   ]
  },
  {
   "cell_type": "code",
   "execution_count": null,
   "metadata": {},
   "outputs": [
    {
     "name": "stdout",
     "output_type": "stream",
     "text": [
      "Interface starting at http://127.0.0.1:8521\n"
     ]
    },
    {
     "ename": "OSError",
     "evalue": "[Errno 98] Address already in use",
     "output_type": "error",
     "traceback": [
      "\u001b[0;31m---------------------------------------------------------------------------\u001b[0m",
      "\u001b[0;31mOSError\u001b[0m                                   Traceback (most recent call last)",
      "\u001b[1;32m/home/chef/Minor Programming/project-M-wag/algae/lake.ipynb Cell 6'\u001b[0m in \u001b[0;36m<cell line: 19>\u001b[0;34m()\u001b[0m\n\u001b[1;32m     <a href='vscode-notebook-cell://wsl%2Bubuntu/home/chef/Minor%20Programming/project-M-wag/algae/lake.ipynb#ch0000005vscode-remote?line=13'>14</a>\u001b[0m server \u001b[39m=\u001b[39m ModularServer(Lake,\n\u001b[1;32m     <a href='vscode-notebook-cell://wsl%2Bubuntu/home/chef/Minor%20Programming/project-M-wag/algae/lake.ipynb#ch0000005vscode-remote?line=14'>15</a>\u001b[0m                        [grid],\n\u001b[1;32m     <a href='vscode-notebook-cell://wsl%2Bubuntu/home/chef/Minor%20Programming/project-M-wag/algae/lake.ipynb#ch0000005vscode-remote?line=15'>16</a>\u001b[0m                        \u001b[39m\"\u001b[39m\u001b[39mLake Model\u001b[39m\u001b[39m\"\u001b[39m,\n\u001b[1;32m     <a href='vscode-notebook-cell://wsl%2Bubuntu/home/chef/Minor%20Programming/project-M-wag/algae/lake.ipynb#ch0000005vscode-remote?line=16'>17</a>\u001b[0m                        {\u001b[39m\"\u001b[39m\u001b[39mN\u001b[39m\u001b[39m\"\u001b[39m:\u001b[39m100\u001b[39m, \u001b[39m\"\u001b[39m\u001b[39mwidth\u001b[39m\u001b[39m\"\u001b[39m:\u001b[39m10\u001b[39m, \u001b[39m\"\u001b[39m\u001b[39mheight\u001b[39m\u001b[39m\"\u001b[39m:\u001b[39m10\u001b[39m, \u001b[39m\"\u001b[39m\u001b[39magent_variant\u001b[39m\u001b[39m\"\u001b[39m : \u001b[39mNone\u001b[39;00m })\n\u001b[1;32m     <a href='vscode-notebook-cell://wsl%2Bubuntu/home/chef/Minor%20Programming/project-M-wag/algae/lake.ipynb#ch0000005vscode-remote?line=17'>18</a>\u001b[0m server\u001b[39m.\u001b[39mport \u001b[39m=\u001b[39m \u001b[39m8521\u001b[39m \u001b[39m# The default\u001b[39;00m\n\u001b[0;32m---> <a href='vscode-notebook-cell://wsl%2Bubuntu/home/chef/Minor%20Programming/project-M-wag/algae/lake.ipynb#ch0000005vscode-remote?line=18'>19</a>\u001b[0m server\u001b[39m.\u001b[39;49mlaunch()\n",
      "File \u001b[0;32m/usr/local/lib/python3.8/dist-packages/mesa/visualization/ModularVisualization.py:333\u001b[0m, in \u001b[0;36mModularServer.launch\u001b[0;34m(self, port, open_browser)\u001b[0m\n\u001b[1;32m    <a href='file:///usr/local/lib/python3.8/dist-packages/mesa/visualization/ModularVisualization.py?line=330'>331</a>\u001b[0m url \u001b[39m=\u001b[39m \u001b[39mf\u001b[39m\u001b[39m\"\u001b[39m\u001b[39mhttp://127.0.0.1:\u001b[39m\u001b[39m{\u001b[39;00m\u001b[39mself\u001b[39m\u001b[39m.\u001b[39mport\u001b[39m}\u001b[39;00m\u001b[39m\"\u001b[39m\n\u001b[1;32m    <a href='file:///usr/local/lib/python3.8/dist-packages/mesa/visualization/ModularVisualization.py?line=331'>332</a>\u001b[0m \u001b[39mprint\u001b[39m(\u001b[39mf\u001b[39m\u001b[39m\"\u001b[39m\u001b[39mInterface starting at \u001b[39m\u001b[39m{\u001b[39;00murl\u001b[39m}\u001b[39;00m\u001b[39m\"\u001b[39m)\n\u001b[0;32m--> <a href='file:///usr/local/lib/python3.8/dist-packages/mesa/visualization/ModularVisualization.py?line=332'>333</a>\u001b[0m \u001b[39mself\u001b[39;49m\u001b[39m.\u001b[39;49mlisten(\u001b[39mself\u001b[39;49m\u001b[39m.\u001b[39;49mport)\n\u001b[1;32m    <a href='file:///usr/local/lib/python3.8/dist-packages/mesa/visualization/ModularVisualization.py?line=333'>334</a>\u001b[0m \u001b[39mif\u001b[39;00m open_browser:\n\u001b[1;32m    <a href='file:///usr/local/lib/python3.8/dist-packages/mesa/visualization/ModularVisualization.py?line=334'>335</a>\u001b[0m     webbrowser\u001b[39m.\u001b[39mopen(url)\n",
      "File \u001b[0;32m/usr/local/lib/python3.8/dist-packages/tornado/web.py:2109\u001b[0m, in \u001b[0;36mApplication.listen\u001b[0;34m(self, port, address, **kwargs)\u001b[0m\n\u001b[1;32m   <a href='file:///usr/local/lib/python3.8/dist-packages/tornado/web.py?line=2089'>2090</a>\u001b[0m \u001b[39m\"\"\"Starts an HTTP server for this application on the given port.\u001b[39;00m\n\u001b[1;32m   <a href='file:///usr/local/lib/python3.8/dist-packages/tornado/web.py?line=2090'>2091</a>\u001b[0m \n\u001b[1;32m   <a href='file:///usr/local/lib/python3.8/dist-packages/tornado/web.py?line=2091'>2092</a>\u001b[0m \u001b[39mThis is a convenience alias for creating an `.HTTPServer`\u001b[39;00m\n\u001b[0;32m   (...)\u001b[0m\n\u001b[1;32m   <a href='file:///usr/local/lib/python3.8/dist-packages/tornado/web.py?line=2105'>2106</a>\u001b[0m \u001b[39m   Now returns the `.HTTPServer` object.\u001b[39;00m\n\u001b[1;32m   <a href='file:///usr/local/lib/python3.8/dist-packages/tornado/web.py?line=2106'>2107</a>\u001b[0m \u001b[39m\"\"\"\u001b[39;00m\n\u001b[1;32m   <a href='file:///usr/local/lib/python3.8/dist-packages/tornado/web.py?line=2107'>2108</a>\u001b[0m server \u001b[39m=\u001b[39m HTTPServer(\u001b[39mself\u001b[39m, \u001b[39m*\u001b[39m\u001b[39m*\u001b[39mkwargs)\n\u001b[0;32m-> <a href='file:///usr/local/lib/python3.8/dist-packages/tornado/web.py?line=2108'>2109</a>\u001b[0m server\u001b[39m.\u001b[39;49mlisten(port, address)\n\u001b[1;32m   <a href='file:///usr/local/lib/python3.8/dist-packages/tornado/web.py?line=2109'>2110</a>\u001b[0m \u001b[39mreturn\u001b[39;00m server\n",
      "File \u001b[0;32m/usr/local/lib/python3.8/dist-packages/tornado/tcpserver.py:151\u001b[0m, in \u001b[0;36mTCPServer.listen\u001b[0;34m(self, port, address)\u001b[0m\n\u001b[1;32m    <a href='file:///usr/local/lib/python3.8/dist-packages/tornado/tcpserver.py?line=142'>143</a>\u001b[0m \u001b[39mdef\u001b[39;00m \u001b[39mlisten\u001b[39m(\u001b[39mself\u001b[39m, port: \u001b[39mint\u001b[39m, address: \u001b[39mstr\u001b[39m \u001b[39m=\u001b[39m \u001b[39m\"\u001b[39m\u001b[39m\"\u001b[39m) \u001b[39m-\u001b[39m\u001b[39m>\u001b[39m \u001b[39mNone\u001b[39;00m:\n\u001b[1;32m    <a href='file:///usr/local/lib/python3.8/dist-packages/tornado/tcpserver.py?line=143'>144</a>\u001b[0m     \u001b[39m\"\"\"Starts accepting connections on the given port.\u001b[39;00m\n\u001b[1;32m    <a href='file:///usr/local/lib/python3.8/dist-packages/tornado/tcpserver.py?line=144'>145</a>\u001b[0m \n\u001b[1;32m    <a href='file:///usr/local/lib/python3.8/dist-packages/tornado/tcpserver.py?line=145'>146</a>\u001b[0m \u001b[39m    This method may be called more than once to listen on multiple ports.\u001b[39;00m\n\u001b[0;32m   (...)\u001b[0m\n\u001b[1;32m    <a href='file:///usr/local/lib/python3.8/dist-packages/tornado/tcpserver.py?line=148'>149</a>\u001b[0m \u001b[39m    the `.IOLoop`.\u001b[39;00m\n\u001b[1;32m    <a href='file:///usr/local/lib/python3.8/dist-packages/tornado/tcpserver.py?line=149'>150</a>\u001b[0m \u001b[39m    \"\"\"\u001b[39;00m\n\u001b[0;32m--> <a href='file:///usr/local/lib/python3.8/dist-packages/tornado/tcpserver.py?line=150'>151</a>\u001b[0m     sockets \u001b[39m=\u001b[39m bind_sockets(port, address\u001b[39m=\u001b[39;49maddress)\n\u001b[1;32m    <a href='file:///usr/local/lib/python3.8/dist-packages/tornado/tcpserver.py?line=151'>152</a>\u001b[0m     \u001b[39mself\u001b[39m\u001b[39m.\u001b[39madd_sockets(sockets)\n",
      "File \u001b[0;32m/usr/local/lib/python3.8/dist-packages/tornado/netutil.py:161\u001b[0m, in \u001b[0;36mbind_sockets\u001b[0;34m(port, address, family, backlog, flags, reuse_port)\u001b[0m\n\u001b[1;32m    <a href='file:///usr/local/lib/python3.8/dist-packages/tornado/netutil.py?line=158'>159</a>\u001b[0m sock\u001b[39m.\u001b[39msetblocking(\u001b[39mFalse\u001b[39;00m)\n\u001b[1;32m    <a href='file:///usr/local/lib/python3.8/dist-packages/tornado/netutil.py?line=159'>160</a>\u001b[0m \u001b[39mtry\u001b[39;00m:\n\u001b[0;32m--> <a href='file:///usr/local/lib/python3.8/dist-packages/tornado/netutil.py?line=160'>161</a>\u001b[0m     sock\u001b[39m.\u001b[39;49mbind(sockaddr)\n\u001b[1;32m    <a href='file:///usr/local/lib/python3.8/dist-packages/tornado/netutil.py?line=161'>162</a>\u001b[0m \u001b[39mexcept\u001b[39;00m \u001b[39mOSError\u001b[39;00m \u001b[39mas\u001b[39;00m e:\n\u001b[1;32m    <a href='file:///usr/local/lib/python3.8/dist-packages/tornado/netutil.py?line=162'>163</a>\u001b[0m     \u001b[39mif\u001b[39;00m (\n\u001b[1;32m    <a href='file:///usr/local/lib/python3.8/dist-packages/tornado/netutil.py?line=163'>164</a>\u001b[0m         errno_from_exception(e) \u001b[39m==\u001b[39m errno\u001b[39m.\u001b[39mEADDRNOTAVAIL\n\u001b[1;32m    <a href='file:///usr/local/lib/python3.8/dist-packages/tornado/netutil.py?line=164'>165</a>\u001b[0m         \u001b[39mand\u001b[39;00m address \u001b[39m==\u001b[39m \u001b[39m\"\u001b[39m\u001b[39mlocalhost\u001b[39m\u001b[39m\"\u001b[39m\n\u001b[0;32m   (...)\u001b[0m\n\u001b[1;32m    <a href='file:///usr/local/lib/python3.8/dist-packages/tornado/netutil.py?line=176'>177</a>\u001b[0m         \u001b[39m# might be a real problem like a typo in a\u001b[39;00m\n\u001b[1;32m    <a href='file:///usr/local/lib/python3.8/dist-packages/tornado/netutil.py?line=177'>178</a>\u001b[0m         \u001b[39m# configuration.\u001b[39;00m\n",
      "\u001b[0;31mOSError\u001b[0m: [Errno 98] Address already in use"
     ]
    }
   ],
   "source": [
    "from mesa.visualization.modules import CanvasGrid\n",
    "from mesa.visualization.ModularVisualization import ModularServer\n",
    "\n",
    "\n",
    "def agent_portrayal(agent):\n",
    "    portrayal = {\"Shape\": \"circle\",\n",
    "                 \"Filled\": \"true\",\n",
    "                 \"Layer\": 0,\n",
    "                 \"Color\": \"red\",\n",
    "                 \"r\": 0.5}\n",
    "    return portrayal\n",
    "\n",
    "grid = CanvasGrid(agent_portrayal, 10, 10, 500, 500)\n",
    "server = ModularServer(Lake,\n",
    "                       [grid],\n",
    "                       \"Lake Model\",\n",
    "                       {\"N\":100, \"width\":10, \"height\":10, \"agent_variant\" : None })\n",
    "server.port = 8521 # The default\n",
    "server.launch()"
   ]
  }
 ],
 "metadata": {
  "interpreter": {
   "hash": "916dbcbb3f70747c44a77c7bcd40155683ae19c65e1c03b4aa3499c5328201f1"
  },
  "kernelspec": {
   "display_name": "Python 3.8.10 64-bit",
   "language": "python",
   "name": "python3"
  },
  "language_info": {
   "codemirror_mode": {
    "name": "ipython",
    "version": 3
   },
   "file_extension": ".py",
   "mimetype": "text/x-python",
   "name": "python",
   "nbconvert_exporter": "python",
   "pygments_lexer": "ipython3",
   "version": "3.8.10"
  },
  "orig_nbformat": 4
 },
 "nbformat": 4,
 "nbformat_minor": 2
}
