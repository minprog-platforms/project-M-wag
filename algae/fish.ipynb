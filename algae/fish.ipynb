{
 "cells": [
  {
   "cell_type": "code",
   "execution_count": 2,
   "metadata": {},
   "outputs": [],
   "source": [
    "from multivargrid import MultiVarGrid\n",
    "import mesa.agent"
   ]
  },
  {
   "cell_type": "code",
   "execution_count": null,
   "metadata": {},
   "outputs": [],
   "source": [
    "class Fish:\n",
    "    \"\"\"Class for an agent Fish\n",
    "\n",
    "    Fish can move through their environment, eat and die from starvation\n",
    "\n",
    "    Properties:\n",
    "        -None\n",
    "    \"\"\"\n",
    "\n",
    "    def __init__(self, unique_id: int, model) -> None:\n",
    "        \"\"\"Create a new agent.\n",
    "\n",
    "        Args:\n",
    "            unique_id (int): A unique numeric identified for the agent\n",
    "            model: (Model): Instance of the model that contains the agent\n",
    "        \"\"\"\n",
    "        self.unique_id = unique_id\n",
    "        self.model = model"
   ]
  },
  {
   "cell_type": "code",
   "execution_count": 5,
   "metadata": {},
   "outputs": [
    {
     "name": "stdout",
     "output_type": "stream",
     "text": [
      "[{'fish': None}, {'fish': None}, {'fish': None}]\n",
      "[{'fish': None}, {'fish': None}, {'fish': None}]\n",
      "[{'fish': None}, {'fish': None}, {'fish': None}]\n"
     ]
    }
   ],
   "source": [
    "lake = MultiVarGrid(3,3, {'fish' : None})\n",
    "lake.visualize_grid()"
   ]
  }
 ],
 "metadata": {
  "interpreter": {
   "hash": "916dbcbb3f70747c44a77c7bcd40155683ae19c65e1c03b4aa3499c5328201f1"
  },
  "kernelspec": {
   "display_name": "Python 3.8.10 64-bit",
   "language": "python",
   "name": "python3"
  },
  "language_info": {
   "codemirror_mode": {
    "name": "ipython",
    "version": 3
   },
   "file_extension": ".py",
   "mimetype": "text/x-python",
   "name": "python",
   "nbconvert_exporter": "python",
   "pygments_lexer": "ipython3",
   "version": "3.8.10"
  },
  "orig_nbformat": 4
 },
 "nbformat": 4,
 "nbformat_minor": 2
}
