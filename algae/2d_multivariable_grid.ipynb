{
 "cells": [
  {
   "cell_type": "code",
   "execution_count": 77,
   "metadata": {},
   "outputs": [],
   "source": [
    "from copy import deepcopy\n",
    "\n",
    "#Based on Mesa Module\n",
    "class MultiVarGrid:\n",
    "    \"\"\"Class for a 2d grid containing mulitple variables per cell \n",
    "    \n",
    "    Grid cells are indexed by [x][y], where [0][0] is assumed to be the\n",
    "    bottom-left and [width-1][height-1] is the top-right.\n",
    "\n",
    "    Properties:\n",
    "        width, height: The grid's width and height. width referring to y and height to x\n",
    "        variables: a list of variables indicating the default values of a cell\n",
    "        grid: List-of-lists \n",
    "    \"\"\"\n",
    "\n",
    "    def __init__(self, width: int, height: int, variables: dict) -> None:\n",
    "        \"\"\"Create a new grid\n",
    "\n",
    "        Args:\n",
    "            width, height: the widt and height of the grid\n",
    "        \"\"\"\n",
    " \n",
    "        self.height = height\n",
    "        self.width = width\n",
    "        #   TODO Add Cache        \n",
    "        self.grid =  []\n",
    "        self.variables = variables\n",
    "\n",
    "        for x in range(self.width): \n",
    "            col = []\n",
    "            for y in range(self.height):\n",
    "                col.append(deepcopy(self.variables))\n",
    "            self.grid.append(col)\n",
    "\n",
    "    def spread(self, variables: list, radius: int):\n",
    "        \"\"\"\"Induce spreading for all passed variables\"\"\"\n",
    "        for variable in variables:\n",
    "            spread_grid = self.get_variable_spread(variable, radius)\n",
    "            for y in range(self.height):\n",
    "                for x in range(self.width):\n",
    "                    self.grid[x][y][variable] = spread_grid[x][y]\n",
    "\n",
    "    def get_variable_spread(self, variable, radius: int) -> list:\n",
    "        \"\"\"For a given variable get the resulting distribution of its sprad\"\"\"\n",
    "        spread_grid = [[0.0 for i in range(self.width)] for j in range(self.height)]\n",
    "        for y in range(self.height):\n",
    "            for x in range(self.width):\n",
    "                pos = (x,y)\n",
    "                neighborhood = self.get_neighborhood(pos, radius)\n",
    "                spread_amount = self.get_value(pos, variable) / len(neighborhood)\n",
    "                for neighbor_pos in neighborhood:\n",
    "                    n_x, n_y = neighbor_pos\n",
    "                    spread_grid[n_x][n_y] += spread_amount\n",
    "        return spread_grid\n",
    "        \n",
    "\n",
    "    def visualize_grid(self):\n",
    "        for y in range(self.height - 1, 0 - 1, -1):\n",
    "            print(self.grid[y]) \n",
    "\n",
    "    def return_variable_grid(self, variable):\n",
    "        variable_grid = [[cell[variable] for cell in col] for col in self.grid]\n",
    "        return variable_grid\n",
    "        \n",
    "    def return_grid(self):\n",
    "        return self.grid\n",
    "\n",
    "    def get_value(self, pos: set, variable):\n",
    "        \"\"\"Get value of a given cell\"\"\"\n",
    "        x, y = pos\n",
    "        return self.grid[x][y][variable]\n",
    "    \n",
    "    def add_value(self, pos: set, variable, value: float):\n",
    "        \"\"\"Add value to a given cell\"\"\"\n",
    "        x,y = pos\n",
    "        variable_type = type(self.grid[x][y][variable])\n",
    "        #   Check to see if mth can be operated\n",
    "        if variable_type == int or variable_type == float:\n",
    "            self.grid[x][y][variable] += value\n",
    "        else:\n",
    "            print(\"Can only add value to float or ints\")\n",
    "    \n",
    "\n",
    "    def change_value(self, pos: set, variable, value: float):\n",
    "        \"\"\"Change value of a given cell\"\"\"\n",
    "        x, y = pos\n",
    "        self.grid[x][y][variable] = value\n",
    "\n",
    "    def get_neighborhood(self, pos: set, radius: int) -> list:\n",
    "        \n",
    "        coordinates = [] \n",
    "        # TODO IMPLEMENT CACHE FOR ALREADY PARSED CELLS\n",
    "        x,y = pos\n",
    "        for dy in range(-radius, radius + 1):\n",
    "            for dx in range(-radius, radius +1):\n",
    "                coord = (x + dx, y + dy)\n",
    "                if self.out_of_bounds(coord):\n",
    "                    continue\n",
    "                coordinates.append(coord)\n",
    "        return coordinates \n",
    "\n",
    "    def out_of_bounds(self, pos) -> bool:\n",
    "        x,y = pos\n",
    "        return x < 0 or x >= self.width or y < 0 or y >= self.height"
   ]
  },
  {
   "cell_type": "code",
   "execution_count": 131,
   "metadata": {},
   "outputs": [],
   "source": [
    "lake_variables = {'algae' : 0.0, 'oxygen' : 0.0, 'agent' : None}\n",
    "lake = MultiVarGrid(24, 24, lake_variables)\n",
    "\n",
    "lake.add_value((11, 11), 'algae', 20)\n",
    "#lake.visualize_grid()\n",
    "\n",
    "#for col in lake.return_variable_grid('algae'):\n",
    "    #print(col)"
   ]
  },
  {
   "cell_type": "code",
   "execution_count": 132,
   "metadata": {},
   "outputs": [
    {
     "name": "stdout",
     "output_type": "stream",
     "text": [
      "20.000000000000004\n"
     ]
    },
    {
     "data": {
      "image/png": "[encoded data removed]",
      "text/plain": [
       "<Figure size 432x288 with 1 Axes>"
      ]
     },
     "metadata": {
      "needs_background": "light"
     },
     "output_type": "display_data"
    }
   ],
   "source": [
    "from matplotlib import pyplot as plt\n",
    "import matplotlib.animation as animation\n",
    "\n",
    "interval = 200\n",
    "fps = 1000/interval\n",
    "\n",
    "fig, ax = plt.subplots()\n",
    "\n",
    "frames = []\n",
    "for i in range(100):\n",
    "    lake.spread(['algae'], 2)\n",
    "    frame = ax.imshow(lake.return_variable_grid('algae'))\n",
    "    frames.append([frame])\n",
    "\n",
    "res = [sum(i) for i in zip(*lake.return_variable_grid('algae'))]\n",
    "print(sum(res))\n",
    "\n",
    "#   Makes Artist Object\n",
    "artist = animation.ArtistAnimation(fig, frames, interval=interval, blit=True, repeat_delay=1000)\n",
    "#   Pick the Writer you want to use\n",
    "gifwriter = animation.PillowWriter(fps=fps)\n",
    "#   Save as gif\n",
    "artist.save('spread.gif',writer=gifwriter)"
   ]
  }
 ],
 "metadata": {
  "interpreter": {
   "hash": "916dbcbb3f70747c44a77c7bcd40155683ae19c65e1c03b4aa3499c5328201f1"
  },
  "kernelspec": {
   "display_name": "Python 3.8.10 64-bit",
   "language": "python",
   "name": "python3"
  },
  "language_info": {
   "codemirror_mode": {
    "name": "ipython",
    "version": 3
   },
   "file_extension": ".py",
   "mimetype": "text/x-python",
   "name": "python",
   "nbconvert_exporter": "python",
   "pygments_lexer": "ipython3",
   "version": "3.8.10"
  },
  "orig_nbformat": 4
 },
 "nbformat": 4,
 "nbformat_minor": 2
}
