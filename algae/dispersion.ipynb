{
 "cells": [
  {
   "cell_type": "code",
   "execution_count": 7,
   "metadata": {},
   "outputs": [],
   "source": [
    "from mesa import Agent, Model\n",
    "from mesa.time import RandomActivation\n",
    "from mesa.space import MultiGrid\n",
    "from mesa.datacollection import DataCollector"
   ]
  },
  {
   "cell_type": "code",
   "execution_count": 8,
   "metadata": {},
   "outputs": [],
   "source": [
    "#Based on Mesa Module\n",
    "class SingleGrid:\n",
    "    \"\"\"Class for a grid containing a maximum of one element per cell\n",
    "    \n",
    "    Grid cells are indexed by [x][y], where [0][0] is assumed to be the\n",
    "    bottom-left and [width-1][height-1] is the top-right.\n",
    "\n",
    "    Properties:\n",
    "        width, height: The grid's width and height. width referring to y and height to x\n",
    "        grid: List-of-lists \n",
    "    \"\"\"\n",
    "\n",
    "    \n",
    "\n",
    "    def __init__(self, width: int, height: int) -> None:\n",
    "        \"\"\"Create a new grid\n",
    "\n",
    "        Args:\n",
    "            width, height: the widt and height of the grid\n",
    "        \"\"\"\n",
    "        default_val = 0.0\n",
    " \n",
    "        self.height = height\n",
    "        self.width = width\n",
    "        #   Add Cache        \n",
    "        self.grid =  []\n",
    "\n",
    "        for x in range(self.width): \n",
    "            col = []\n",
    "            for y in range(self.height):\n",
    "                col.append(default_val)\n",
    "            self.grid.append(col)\n",
    "\n",
    "    def spread_grid(self, radius: int):\n",
    "        temp_grid = [[0 for i in range(self.width)] for j in range(self.height)]\n",
    "        for y in range(self.height):\n",
    "            for x in range(self.width):\n",
    "                pos = (x,y)\n",
    "                neighborhood = self.get_neighborhood(pos, radius)\n",
    "                spread_amount = self.get_value(pos) / len(neighborhood)\n",
    "                for neighbor_pos in neighborhood:\n",
    "                    n_x = neighbor_pos[0]\n",
    "                    n_y = neighbor_pos[1]\n",
    "                    temp_grid[n_x][n_y] += spread_amount\n",
    "        self.grid = temp_grid            \n",
    "        \n",
    "\n",
    "    def visualize_grid(self):\n",
    "        for y in range(self.height - 1, 0 - 1, -1):\n",
    "            print(self.grid[y]) \n",
    "\n",
    "    def return_grid(self):\n",
    "        return self.grid\n",
    "\n",
    "    def spread(self, pos: set, radius: int):\n",
    "        \"\"\"Distribute value equally to neighboring cells\"\"\"     \n",
    "        #   Get Neighborhood\n",
    "        neighborhood = self.get_neighborhood(pos, radius)\n",
    "        #   Divide Value By Length\n",
    "        spread_amount = self.get_value(pos) / len(neighborhood)\n",
    "        #   Set Self to 0\n",
    "        self.change_value(pos, 0)\n",
    "        #   Add to neighborhood\n",
    "        for cell in neighborhood:\n",
    "            self.add_value(cell, spread_amount)\n",
    "\n",
    "    def get_value(self, pos: set) -> float:\n",
    "        \"\"\"Get value of a given cell\"\"\"\n",
    "        x, y = pos\n",
    "        return self.grid[x][y]\n",
    "    \n",
    "    def add_value(self, pos: set, value: float):\n",
    "        \"\"\"Add value to a given cell\"\"\"\n",
    "        x,y = pos\n",
    "        self.grid[x][y] += value\n",
    "\n",
    "    def change_value(self, pos: set, value: float):\n",
    "        \"\"\"Change value of a given cell\"\"\"\n",
    "        x, y = pos\n",
    "        self.grid[x][y] = value\n",
    "\n",
    "    def get_neighborhood(self, pos: set, radius: int) -> list:\n",
    "        \n",
    "        coordinates = [] \n",
    "        # TODO IMPLEMENT CACHE FOR ALREADY PARSED CELLS\n",
    "        x,y = pos\n",
    "        for dy in range(-radius, radius + 1):\n",
    "            for dx in range(-radius, radius +1):\n",
    "                coord = (x + dx, y + dy)\n",
    "                if self.out_of_bounds(coord):\n",
    "                    continue\n",
    "                coordinates.append(coord)\n",
    "        return coordinates \n",
    "\n",
    "    def out_of_bounds(self, pos) -> bool:\n",
    "        x,y = pos\n",
    "        return x < 0 or x >= self.width or y < 0 or y >= self.height"
   ]
  },
  {
   "cell_type": "code",
   "execution_count": 9,
   "metadata": {},
   "outputs": [
    {
     "name": "stdout",
     "output_type": "stream",
     "text": [
      "Visualizing Grid\n",
      "[0.0, 0.0, 0.0]\n",
      "[0.0, 0.0, 0.0]\n",
      "[0.0, 0.0, 0.0]\n",
      "\n",
      "Change (0,0) to 1\n",
      "[0.0, 0.0, 0.0]\n",
      "[0.0, 10.0, 0.0]\n",
      "[0.0, 0.0, 0.0]\n",
      "\n",
      "Get value of (0,0)\n",
      "0.0\n"
     ]
    }
   ],
   "source": [
    "x = SingleGrid(3, 3)\n",
    "#   Test Grid Init\n",
    "print('Visualizing Grid')\n",
    "x.visualize_grid()\n",
    "print()\n",
    "\n",
    "#   Test Change Value\n",
    "print('Change (0,0) to 1')\n",
    "x.change_value((1,1), 10.0)\n",
    "x.visualize_grid()\n",
    "print()\n",
    "\n",
    "#   Test Get Value\n",
    "print('Get value of (0,0)')\n",
    "print(x.get_value((0,0)))"
   ]
  },
  {
   "cell_type": "code",
   "execution_count": 10,
   "metadata": {},
   "outputs": [
    {
     "name": "stdout",
     "output_type": "stream",
     "text": [
      "[1.1111111111111112, 1.1111111111111112, 1.1111111111111112]\n",
      "[1.1111111111111112, 1.1111111111111112, 1.1111111111111112]\n",
      "[1.1111111111111112, 1.1111111111111112, 1.1111111111111112]\n"
     ]
    }
   ],
   "source": [
    "# Test Spread\n",
    "x.visualize_grid\n",
    "x.spread_grid(1)\n",
    "x.visualize_grid()"
   ]
  },
  {
   "cell_type": "code",
   "execution_count": 11,
   "metadata": {},
   "outputs": [
    {
     "name": "stdout",
     "output_type": "stream",
     "text": [
      "5.000000000000002\n"
     ]
    },
    {
     "data": {
      "image/png": "[encoded data removed]",
      "text/plain": [
       "<Figure size 432x288 with 1 Axes>"
      ]
     },
     "metadata": {
      "needs_background": "light"
     },
     "output_type": "display_data"
    }
   ],
   "source": [
    "import matplotlib.pyplot as plt\n",
    "import matplotlib.animation as animation\n",
    "\n",
    "interval = 200\n",
    "fps = 1000/interval\n",
    "\n",
    "#   Visualize with heat map\n",
    "lake = SingleGrid(25, 25)\n",
    "lake.change_value((12, 12), 1.0)\n",
    "lake.change_value((18, 12), 1.0)\n",
    "lake.change_value((12, 6), 1.0)\n",
    "lake.change_value((6, 12), 1.0)\n",
    "lake.change_value((12, 19), 1.0)\n",
    "fig, ax = plt.subplots()\n",
    "\n",
    "frames = []\n",
    "frame = ax.imshow(lake.return_grid())\n",
    "frames.append([frame])\n",
    "for i in range(100):\n",
    "    lake.spread_grid(2)\n",
    "    frame = ax.imshow(lake.return_grid())\n",
    "    frames.append([frame])\n",
    "\n",
    "res = [sum(i) for i in zip(*lake.return_grid())]\n",
    "print(sum(res))\n",
    "\n",
    "#   Makes Artist Object\n",
    "artist = animation.ArtistAnimation(fig, frames, interval=interval, blit=True, repeat_delay=1000)\n",
    "#   Pick the Writer you want to use\n",
    "gifwriter = animation.PillowWriter(fps=fps)\n",
    "#   Save as gif\n",
    "artist.save('spread.gif',writer=gifwriter)"
   ]
  },
  {
   "cell_type": "code",
   "execution_count": 12,
   "metadata": {},
   "outputs": [],
   "source": [
    "lake = SingleGrid(6,6)\n",
    "lake.change_value((3,3), 1.0)"
   ]
  },
  {
   "cell_type": "code",
   "execution_count": 13,
   "metadata": {},
   "outputs": [],
   "source": [
    "lake.spread_grid(1)\n",
    "\n",
    "frame = ax.imshow(lake.return_grid())"
   ]
  }
 ],
 "metadata": {
  "interpreter": {
   "hash": "916dbcbb3f70747c44a77c7bcd40155683ae19c65e1c03b4aa3499c5328201f1"
  },
  "kernelspec": {
   "display_name": "Python 3.8.10 64-bit",
   "language": "python",
   "name": "python3"
  },
  "language_info": {
   "codemirror_mode": {
    "name": "ipython",
    "version": 3
   },
   "file_extension": ".py",
   "mimetype": "text/x-python",
   "name": "python",
   "nbconvert_exporter": "python",
   "pygments_lexer": "ipython3",
   "version": "3.8.10"
  },
  "orig_nbformat": 4
 },
 "nbformat": 4,
 "nbformat_minor": 2
}
